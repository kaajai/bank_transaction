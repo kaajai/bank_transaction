{
 "cells": [
  {
   "cell_type": "markdown",
   "id": "dd4f7400-8c77-4fae-9839-c58792dbe635",
   "metadata": {},
   "source": [
    "### Experiement with how to reduct the docuemnt to be parsed. Number of tokens is too hight. Try to experiement with date."
   ]
  },
  {
   "cell_type": "code",
   "execution_count": 148,
   "id": "5d57504e-7c9b-42d0-86ca-89c5030cd48d",
   "metadata": {},
   "outputs": [],
   "source": [
    "import openai\n",
    "import docx\n",
    "import pandas as pd\n",
    "FILE_NAME = \"/Users/prashantgaurav/Projects/KaajAi/receipts/bank-statement-template-09.docx\"\n",
    "\n",
    "def getText(filename):\n",
    "    doc = docx.Document(filename)\n",
    "    fullText = []\n",
    "    for para in doc.paragraphs:\n",
    "        fullText.append(para.text)\n",
    "    return '\\n'.join(fullText)"
   ]
  },
  {
   "cell_type": "code",
   "execution_count": 149,
   "id": "e03634ae-edac-4457-9eab-f33d956549aa",
   "metadata": {},
   "outputs": [],
   "source": [
    "import openai\n",
    "import os\n",
    "client = openai.Client(api_key=os.environ.get(\"OPENAI_API_KEY\"))\n",
    "text = getText(FILE_NAME)"
   ]
  },
  {
   "cell_type": "code",
   "execution_count": 150,
   "id": "0d508e0f-2c8c-49f8-8fb6-09a306868fee",
   "metadata": {},
   "outputs": [],
   "source": [
    "doc = docx.Document(FILE_NAME)\n",
    "text = \"\"\n",
    "for table in doc.tables:\n",
    "    for row in table.rows:\n",
    "        for cell in row.cells:\n",
    "            text+= cell.text"
   ]
  },
  {
   "cell_type": "code",
   "execution_count": 151,
   "id": "2f7b19a3-ef06-4b98-8a6e-d59590df1498",
   "metadata": {},
   "outputs": [
    {
     "name": "stdout",
     "output_type": "stream",
     "text": [
      "DateDetailsWithdrawalsDepositsBalanceApr 8Opening Balance5,234.09Apr 8Insurance272.455,506.54Apr 10ATM200.005,306.54Apr 12Internet Transfer250.005,556.54Apr 12Payroll2100.007,656.54Apr 13Bill payment135.077,521.47Apr 14Direct debit200.007,321.47Apr 14Deposit250.007.567.87Apr 15Bill payment525.727,042.15Apr 17Bill payment327.636,714.52Apr 17Bill payment729.965,984.56Apr 18Bill payment223.695,710.87Closing Balance$5,710.87\n"
     ]
    }
   ],
   "source": [
    "print(text)"
   ]
  },
  {
   "cell_type": "code",
   "execution_count": 152,
   "id": "9ca32270-fbb0-4530-bc74-15293e407af1",
   "metadata": {},
   "outputs": [
    {
     "name": "stdout",
     "output_type": "stream",
     "text": [
      "CPU times: user 17.3 ms, sys: 9.72 ms, total: 27.1 ms\n",
      "Wall time: 8.4 s\n"
     ]
    }
   ],
   "source": [
    "%%time\n",
    "prompt = \"\"\"I'm going to give you the contents of a pdf of a bank statement. The text containes transaction records along with other things.\n",
    "you job is to parse each transaction record and return the details like date, description, amount and type. The type column should contain either \n",
    "'credit' or 'debit'. Return these information in a tabular format. Do not return anything else just the table\"\"\"\n",
    "\n",
    "docs = [{\"role\": \"system\", \"content\": prompt + '\\n' + text}]\n",
    "response = client.chat.completions.create(\n",
    "                model=\"gpt-4\",\n",
    "                messages=docs\n",
    "            )\n",
    "\n",
    "resp = response.choices[0].message.content"
   ]
  },
  {
   "cell_type": "code",
   "execution_count": 153,
   "id": "d2577d81-1d0c-4fce-8c2b-9e1f4c41731e",
   "metadata": {},
   "outputs": [
    {
     "name": "stdout",
     "output_type": "stream",
     "text": [
      "| Date | Description | Amount | Type |\n",
      "|------|-------------|--------|------|\n",
      "| Apr 8 | Insurance | 272.45 | Debit |\n",
      "| Apr 10 | ATM | 200.00 | Debit |\n",
      "| Apr 12 | Internet Transfer | 250.00 | Debit |\n",
      "| Apr 12 | Payroll | 2100.00 | Credit |\n",
      "| Apr 13 | Bill payment | 135.07 | Debit |\n",
      "| Apr 14 | Direct debit | 200.00 | Debit |\n",
      "| Apr 14 | Deposit | 250.00 | Credit |\n",
      "| Apr 15 | Bill payment | 525.72 | Debit |\n",
      "| Apr 17 | Bill payment | 327.63 | Debit |\n",
      "| Apr 17 | Bill payment | 729.96 | Debit |\n",
      "| Apr 18 | Bill payment | 223.69 | Debit |\n"
     ]
    }
   ],
   "source": [
    "print(resp)"
   ]
  },
  {
   "cell_type": "code",
   "execution_count": 154,
   "id": "c2b90a3f-c233-4102-9d8c-f0c7c59253fe",
   "metadata": {},
   "outputs": [
    {
     "name": "stdout",
     "output_type": "stream",
     "text": [
      "[['Date', 'Description', 'Amount', 'Type'], ['Apr 8', 'Insurance', '272.45', 'Debit'], ['Apr 10', 'ATM', '200.00', 'Debit'], ['Apr 12', 'Internet Transfer', '250.00', 'Debit'], ['Apr 12', 'Payroll', '2100.00', 'Credit'], ['Apr 13', 'Bill payment', '135.07', 'Debit'], ['Apr 14', 'Direct debit', '200.00', 'Debit'], ['Apr 14', 'Deposit', '250.00', 'Credit'], ['Apr 15', 'Bill payment', '525.72', 'Debit'], ['Apr 17', 'Bill payment', '327.63', 'Debit'], ['Apr 17', 'Bill payment', '729.96', 'Debit'], ['Apr 18', 'Bill payment', '223.69', 'Debit']]\n"
     ]
    }
   ],
   "source": [
    "def parse_response_table(resp):\n",
    "    lines = resp.strip().split(\"\\n\")\n",
    "    table = [line.split('|') for line in lines]\n",
    "    final_table = []\n",
    "    for line in table:\n",
    "        new_line = []\n",
    "        for ele in line:\n",
    "            ele = ele.replace('-','')\n",
    "            if ele :\n",
    "               new_line.append(ele.strip())\n",
    "        if not new_line:\n",
    "            continue\n",
    "        final_table.append(new_line)\n",
    "    print(final_table)\n",
    "    df = pd.DataFrame(final_table[1:],columns=final_table[0])\n",
    "    return df\n",
    "df = parse_response_table(resp)"
   ]
  },
  {
   "cell_type": "code",
   "execution_count": 155,
   "id": "c66a7261-e1ed-4123-954d-17fa388d4c59",
   "metadata": {},
   "outputs": [
    {
     "data": {
      "text/html": [
       "<div>\n",
       "<style scoped>\n",
       "    .dataframe tbody tr th:only-of-type {\n",
       "        vertical-align: middle;\n",
       "    }\n",
       "\n",
       "    .dataframe tbody tr th {\n",
       "        vertical-align: top;\n",
       "    }\n",
       "\n",
       "    .dataframe thead th {\n",
       "        text-align: right;\n",
       "    }\n",
       "</style>\n",
       "<table border=\"1\" class=\"dataframe\">\n",
       "  <thead>\n",
       "    <tr style=\"text-align: right;\">\n",
       "      <th></th>\n",
       "      <th>Date</th>\n",
       "      <th>Description</th>\n",
       "      <th>Amount</th>\n",
       "      <th>Type</th>\n",
       "    </tr>\n",
       "  </thead>\n",
       "  <tbody>\n",
       "    <tr>\n",
       "      <th>0</th>\n",
       "      <td>Apr 8</td>\n",
       "      <td>Insurance</td>\n",
       "      <td>272.45</td>\n",
       "      <td>Debit</td>\n",
       "    </tr>\n",
       "    <tr>\n",
       "      <th>1</th>\n",
       "      <td>Apr 10</td>\n",
       "      <td>ATM</td>\n",
       "      <td>200.00</td>\n",
       "      <td>Debit</td>\n",
       "    </tr>\n",
       "    <tr>\n",
       "      <th>2</th>\n",
       "      <td>Apr 12</td>\n",
       "      <td>Internet Transfer</td>\n",
       "      <td>250.00</td>\n",
       "      <td>Debit</td>\n",
       "    </tr>\n",
       "    <tr>\n",
       "      <th>3</th>\n",
       "      <td>Apr 12</td>\n",
       "      <td>Payroll</td>\n",
       "      <td>2100.00</td>\n",
       "      <td>Credit</td>\n",
       "    </tr>\n",
       "    <tr>\n",
       "      <th>4</th>\n",
       "      <td>Apr 13</td>\n",
       "      <td>Bill payment</td>\n",
       "      <td>135.07</td>\n",
       "      <td>Debit</td>\n",
       "    </tr>\n",
       "    <tr>\n",
       "      <th>5</th>\n",
       "      <td>Apr 14</td>\n",
       "      <td>Direct debit</td>\n",
       "      <td>200.00</td>\n",
       "      <td>Debit</td>\n",
       "    </tr>\n",
       "    <tr>\n",
       "      <th>6</th>\n",
       "      <td>Apr 14</td>\n",
       "      <td>Deposit</td>\n",
       "      <td>250.00</td>\n",
       "      <td>Credit</td>\n",
       "    </tr>\n",
       "    <tr>\n",
       "      <th>7</th>\n",
       "      <td>Apr 15</td>\n",
       "      <td>Bill payment</td>\n",
       "      <td>525.72</td>\n",
       "      <td>Debit</td>\n",
       "    </tr>\n",
       "    <tr>\n",
       "      <th>8</th>\n",
       "      <td>Apr 17</td>\n",
       "      <td>Bill payment</td>\n",
       "      <td>327.63</td>\n",
       "      <td>Debit</td>\n",
       "    </tr>\n",
       "    <tr>\n",
       "      <th>9</th>\n",
       "      <td>Apr 17</td>\n",
       "      <td>Bill payment</td>\n",
       "      <td>729.96</td>\n",
       "      <td>Debit</td>\n",
       "    </tr>\n",
       "    <tr>\n",
       "      <th>10</th>\n",
       "      <td>Apr 18</td>\n",
       "      <td>Bill payment</td>\n",
       "      <td>223.69</td>\n",
       "      <td>Debit</td>\n",
       "    </tr>\n",
       "  </tbody>\n",
       "</table>\n",
       "</div>"
      ],
      "text/plain": [
       "      Date        Description   Amount    Type\n",
       "0    Apr 8          Insurance   272.45   Debit\n",
       "1   Apr 10                ATM   200.00   Debit\n",
       "2   Apr 12  Internet Transfer   250.00   Debit\n",
       "3   Apr 12            Payroll  2100.00  Credit\n",
       "4   Apr 13       Bill payment   135.07   Debit\n",
       "5   Apr 14       Direct debit   200.00   Debit\n",
       "6   Apr 14            Deposit   250.00  Credit\n",
       "7   Apr 15       Bill payment   525.72   Debit\n",
       "8   Apr 17       Bill payment   327.63   Debit\n",
       "9   Apr 17       Bill payment   729.96   Debit\n",
       "10  Apr 18       Bill payment   223.69   Debit"
      ]
     },
     "execution_count": 155,
     "metadata": {},
     "output_type": "execute_result"
    }
   ],
   "source": [
    "df"
   ]
  },
  {
   "cell_type": "code",
   "execution_count": null,
   "id": "0121953b-3f4b-4f04-adeb-65d9b2da0f05",
   "metadata": {},
   "outputs": [],
   "source": []
  }
 ],
 "metadata": {
  "kernelspec": {
   "display_name": "Python 3 (ipykernel)",
   "language": "python",
   "name": "python3"
  },
  "language_info": {
   "codemirror_mode": {
    "name": "ipython",
    "version": 3
   },
   "file_extension": ".py",
   "mimetype": "text/x-python",
   "name": "python",
   "nbconvert_exporter": "python",
   "pygments_lexer": "ipython3",
   "version": "3.10.14"
  }
 },
 "nbformat": 4,
 "nbformat_minor": 5
}
